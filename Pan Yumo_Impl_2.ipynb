{
 "cells": [
  {
   "cell_type": "code",
   "execution_count": 1,
   "id": "df2b9be9",
   "metadata": {},
   "outputs": [],
   "source": [
    "import pandas as pd\n",
    "import numpy as np\n",
    "import matplotlib.pyplot as plt\n",
    "import seaborn as sns\n",
    "%matplotlib inline\n",
    "\n",
    "import pmdarima as pm\n",
    "from pmdarima.arima import auto_arima"
   ]
  },
  {
   "cell_type": "markdown",
   "id": "a2c5b0ae",
   "metadata": {},
   "source": [
    "# Raw Stock Data Input"
   ]
  },
  {
   "cell_type": "code",
   "execution_count": 2,
   "id": "b4c781ce",
   "metadata": {},
   "outputs": [],
   "source": [
    "raw = pd.read_csv('NVDA_5yr.csv')\n",
    "# Data Source: https://finance.yahoo.com/quote/NVDA/history?p=NVDA&guccounter=1"
   ]
  },
  {
   "cell_type": "markdown",
   "id": "1d5c613a",
   "metadata": {},
   "source": [
    "# EDA"
   ]
  },
  {
   "cell_type": "code",
   "execution_count": 3,
   "id": "88cdf371",
   "metadata": {
    "scrolled": true
   },
   "outputs": [
    {
     "data": {
      "text/html": [
       "<div>\n",
       "<style scoped>\n",
       "    .dataframe tbody tr th:only-of-type {\n",
       "        vertical-align: middle;\n",
       "    }\n",
       "\n",
       "    .dataframe tbody tr th {\n",
       "        vertical-align: top;\n",
       "    }\n",
       "\n",
       "    .dataframe thead th {\n",
       "        text-align: right;\n",
       "    }\n",
       "</style>\n",
       "<table border=\"1\" class=\"dataframe\">\n",
       "  <thead>\n",
       "    <tr style=\"text-align: right;\">\n",
       "      <th></th>\n",
       "      <th>Date</th>\n",
       "      <th>Open</th>\n",
       "      <th>High</th>\n",
       "      <th>Low</th>\n",
       "      <th>Close</th>\n",
       "      <th>Adj Close</th>\n",
       "      <th>Volume</th>\n",
       "    </tr>\n",
       "  </thead>\n",
       "  <tbody>\n",
       "    <tr>\n",
       "      <th>0</th>\n",
       "      <td>2017-10-23</td>\n",
       "      <td>49.445000</td>\n",
       "      <td>49.712502</td>\n",
       "      <td>48.950001</td>\n",
       "      <td>49.154999</td>\n",
       "      <td>48.637718</td>\n",
       "      <td>42869600</td>\n",
       "    </tr>\n",
       "    <tr>\n",
       "      <th>1</th>\n",
       "      <td>2017-10-24</td>\n",
       "      <td>49.247501</td>\n",
       "      <td>49.687500</td>\n",
       "      <td>48.985001</td>\n",
       "      <td>49.669998</td>\n",
       "      <td>49.147293</td>\n",
       "      <td>40724400</td>\n",
       "    </tr>\n",
       "    <tr>\n",
       "      <th>2</th>\n",
       "      <td>2017-10-25</td>\n",
       "      <td>49.270000</td>\n",
       "      <td>49.805000</td>\n",
       "      <td>47.792500</td>\n",
       "      <td>48.415001</td>\n",
       "      <td>47.905499</td>\n",
       "      <td>82816000</td>\n",
       "    </tr>\n",
       "    <tr>\n",
       "      <th>3</th>\n",
       "      <td>2017-10-26</td>\n",
       "      <td>48.695000</td>\n",
       "      <td>49.040001</td>\n",
       "      <td>48.452499</td>\n",
       "      <td>48.922501</td>\n",
       "      <td>48.407654</td>\n",
       "      <td>32274400</td>\n",
       "    </tr>\n",
       "    <tr>\n",
       "      <th>4</th>\n",
       "      <td>2017-10-27</td>\n",
       "      <td>49.450001</td>\n",
       "      <td>50.467499</td>\n",
       "      <td>49.187500</td>\n",
       "      <td>50.465000</td>\n",
       "      <td>49.933937</td>\n",
       "      <td>57219200</td>\n",
       "    </tr>\n",
       "  </tbody>\n",
       "</table>\n",
       "</div>"
      ],
      "text/plain": [
       "         Date       Open       High        Low      Close  Adj Close    Volume\n",
       "0  2017-10-23  49.445000  49.712502  48.950001  49.154999  48.637718  42869600\n",
       "1  2017-10-24  49.247501  49.687500  48.985001  49.669998  49.147293  40724400\n",
       "2  2017-10-25  49.270000  49.805000  47.792500  48.415001  47.905499  82816000\n",
       "3  2017-10-26  48.695000  49.040001  48.452499  48.922501  48.407654  32274400\n",
       "4  2017-10-27  49.450001  50.467499  49.187500  50.465000  49.933937  57219200"
      ]
     },
     "execution_count": 3,
     "metadata": {},
     "output_type": "execute_result"
    }
   ],
   "source": [
    "raw.head()"
   ]
  },
  {
   "cell_type": "code",
   "execution_count": 4,
   "id": "284b1ed5",
   "metadata": {},
   "outputs": [
    {
     "name": "stdout",
     "output_type": "stream",
     "text": [
      "<class 'pandas.core.frame.DataFrame'>\n",
      "RangeIndex: 1259 entries, 0 to 1258\n",
      "Data columns (total 7 columns):\n",
      " #   Column     Non-Null Count  Dtype  \n",
      "---  ------     --------------  -----  \n",
      " 0   Date       1259 non-null   object \n",
      " 1   Open       1259 non-null   float64\n",
      " 2   High       1259 non-null   float64\n",
      " 3   Low        1259 non-null   float64\n",
      " 4   Close      1259 non-null   float64\n",
      " 5   Adj Close  1259 non-null   float64\n",
      " 6   Volume     1259 non-null   int64  \n",
      "dtypes: float64(5), int64(1), object(1)\n",
      "memory usage: 69.0+ KB\n"
     ]
    }
   ],
   "source": [
    "raw.info()"
   ]
  },
  {
   "cell_type": "code",
   "execution_count": 5,
   "id": "736bafb5",
   "metadata": {},
   "outputs": [],
   "source": [
    "# No missing values\n",
    "# Date is in object type -> convert to datetime object & set as index\n",
    "raw['Date'] = pd.to_datetime(raw['Date'])\n",
    "raw.set_index('Date', inplace=True)"
   ]
  },
  {
   "cell_type": "code",
   "execution_count": 6,
   "id": "375e3ecb",
   "metadata": {},
   "outputs": [
    {
     "data": {
      "text/html": [
       "<div>\n",
       "<style scoped>\n",
       "    .dataframe tbody tr th:only-of-type {\n",
       "        vertical-align: middle;\n",
       "    }\n",
       "\n",
       "    .dataframe tbody tr th {\n",
       "        vertical-align: top;\n",
       "    }\n",
       "\n",
       "    .dataframe thead th {\n",
       "        text-align: right;\n",
       "    }\n",
       "</style>\n",
       "<table border=\"1\" class=\"dataframe\">\n",
       "  <thead>\n",
       "    <tr style=\"text-align: right;\">\n",
       "      <th></th>\n",
       "      <th>Close</th>\n",
       "    </tr>\n",
       "    <tr>\n",
       "      <th>Date</th>\n",
       "      <th></th>\n",
       "    </tr>\n",
       "  </thead>\n",
       "  <tbody>\n",
       "    <tr>\n",
       "      <th>2017-10-23</th>\n",
       "      <td>49.154999</td>\n",
       "    </tr>\n",
       "    <tr>\n",
       "      <th>2017-10-24</th>\n",
       "      <td>49.669998</td>\n",
       "    </tr>\n",
       "    <tr>\n",
       "      <th>2017-10-25</th>\n",
       "      <td>48.415001</td>\n",
       "    </tr>\n",
       "    <tr>\n",
       "      <th>2017-10-26</th>\n",
       "      <td>48.922501</td>\n",
       "    </tr>\n",
       "    <tr>\n",
       "      <th>2017-10-27</th>\n",
       "      <td>50.465000</td>\n",
       "    </tr>\n",
       "  </tbody>\n",
       "</table>\n",
       "</div>"
      ],
      "text/plain": [
       "                Close\n",
       "Date                 \n",
       "2017-10-23  49.154999\n",
       "2017-10-24  49.669998\n",
       "2017-10-25  48.415001\n",
       "2017-10-26  48.922501\n",
       "2017-10-27  50.465000"
      ]
     },
     "execution_count": 6,
     "metadata": {},
     "output_type": "execute_result"
    }
   ],
   "source": [
    "# Keep only closing price for the model\n",
    "df = pd.DataFrame(raw['Close'])\n",
    "df.head()"
   ]
  },
  {
   "cell_type": "markdown",
   "id": "ecb89c8d",
   "metadata": {},
   "source": [
    "### Time Series of Closing Price"
   ]
  },
  {
   "cell_type": "code",
   "execution_count": 7,
   "id": "e266e58d",
   "metadata": {
    "scrolled": true
   },
   "outputs": [
    {
     "data": {
      "text/plain": [
       "Text(0.5, 1.0, 'NVDA Closing Price')"
      ]
     },
     "execution_count": 7,
     "metadata": {},
     "output_type": "execute_result"
    },
    {
     "data": {
      "image/png": "[encoded data removed]",
      "text/plain": [
       "<Figure size 1080x576 with 1 Axes>"
      ]
     },
     "metadata": {
      "needs_background": "light"
     },
     "output_type": "display_data"
    }
   ],
   "source": [
    "plt.figure(figsize = (15,8))\n",
    "sns.lineplot(x = 'Date', y = 'Close', data = df)\n",
    "plt.title ('NVDA Closing Price')"
   ]
  },
  {
   "cell_type": "code",
   "execution_count": 8,
   "id": "f2e02654",
   "metadata": {},
   "outputs": [],
   "source": [
    "# Trend Reversal: Macro data useful here?"
   ]
  },
  {
   "cell_type": "markdown",
   "id": "31df5d08",
   "metadata": {},
   "source": [
    "### Stationarity"
   ]
  },
  {
   "cell_type": "markdown",
   "id": "6686695f",
   "metadata": {},
   "source": [
    "#### Dickey-Fuller Test"
   ]
  },
  {
   "cell_type": "code",
   "execution_count": 9,
   "id": "72de3160",
   "metadata": {},
   "outputs": [],
   "source": [
    "import statsmodels.api as sm"
   ]
  },
  {
   "cell_type": "code",
   "execution_count": 10,
   "id": "2644c24f",
   "metadata": {
    "scrolled": true
   },
   "outputs": [
    {
     "data": {
      "image/png": "[encoded data removed]",
      "text/plain": [
       "<Figure size 864x576 with 4 Axes>"
      ]
     },
     "metadata": {
      "needs_background": "light"
     },
     "output_type": "display_data"
    }
   ],
   "source": [
    "res = sm.tsa.seasonal_decompose(df['Close'],period=365)\n",
    "fig = res.plot()\n",
    "fig.set_figheight(8)\n",
    "fig.set_figwidth(12)\n",
    "plt.show()"
   ]
  },
  {
   "cell_type": "code",
   "execution_count": 11,
   "id": "74c686af",
   "metadata": {},
   "outputs": [
    {
     "data": {
      "text/plain": [
       "0.8383811021005569"
      ]
     },
     "execution_count": 11,
     "metadata": {},
     "output_type": "execute_result"
    }
   ],
   "source": [
    "from statsmodels.tsa.stattools import adfuller\n",
    "res = sm.tsa.adfuller(df['Close'],regression='ct')\n",
    "res[1] # p-value > 0.05 -> non-stationary -> use auto arima to determine desirable parameter values"
   ]
  },
  {
   "cell_type": "markdown",
   "id": "acbfeb2e",
   "metadata": {},
   "source": [
    "# Auto ARIMA to determine p,d,q"
   ]
  },
  {
   "cell_type": "code",
   "execution_count": 12,
   "id": "27c8835d",
   "metadata": {},
   "outputs": [
    {
     "name": "stdout",
     "output_type": "stream",
     "text": [
      "Performing stepwise search to minimize aic\n",
      " ARIMA(2,1,2)(0,0,0)[0] intercept   : AIC=7399.788, Time=1.04 sec\n",
      " ARIMA(0,1,0)(0,0,0)[0] intercept   : AIC=7403.477, Time=0.03 sec\n",
      " ARIMA(1,1,0)(0,0,0)[0] intercept   : AIC=7402.574, Time=0.08 sec\n",
      " ARIMA(0,1,1)(0,0,0)[0] intercept   : AIC=7402.414, Time=0.14 sec\n",
      " ARIMA(0,1,0)(0,0,0)[0]             : AIC=7401.693, Time=0.02 sec\n",
      " ARIMA(1,1,2)(0,0,0)[0] intercept   : AIC=7401.334, Time=0.48 sec\n",
      " ARIMA(2,1,1)(0,0,0)[0] intercept   : AIC=7401.140, Time=0.29 sec\n",
      " ARIMA(3,1,2)(0,0,0)[0] intercept   : AIC=7403.657, Time=0.70 sec\n",
      " ARIMA(2,1,3)(0,0,0)[0] intercept   : AIC=7403.367, Time=0.97 sec\n",
      " ARIMA(1,1,1)(0,0,0)[0] intercept   : AIC=7404.070, Time=0.27 sec\n",
      " ARIMA(1,1,3)(0,0,0)[0] intercept   : AIC=7404.262, Time=0.47 sec\n",
      " ARIMA(3,1,1)(0,0,0)[0] intercept   : AIC=7403.018, Time=0.53 sec\n",
      " ARIMA(3,1,3)(0,0,0)[0] intercept   : AIC=inf, Time=1.62 sec\n",
      " ARIMA(2,1,2)(0,0,0)[0]             : AIC=7397.982, Time=0.96 sec\n",
      " ARIMA(1,1,2)(0,0,0)[0]             : AIC=7399.582, Time=0.28 sec\n",
      " ARIMA(2,1,1)(0,0,0)[0]             : AIC=7399.386, Time=0.18 sec\n",
      " ARIMA(3,1,2)(0,0,0)[0]             : AIC=7401.857, Time=0.41 sec\n",
      " ARIMA(2,1,3)(0,0,0)[0]             : AIC=7401.564, Time=0.54 sec\n",
      " ARIMA(1,1,1)(0,0,0)[0]             : AIC=7402.316, Time=0.14 sec\n",
      " ARIMA(1,1,3)(0,0,0)[0]             : AIC=7402.455, Time=0.28 sec\n",
      " ARIMA(3,1,1)(0,0,0)[0]             : AIC=7401.260, Time=0.29 sec\n",
      " ARIMA(3,1,3)(0,0,0)[0]             : AIC=7396.863, Time=1.12 sec\n",
      " ARIMA(4,1,3)(0,0,0)[0]             : AIC=7397.102, Time=0.96 sec\n",
      " ARIMA(3,1,4)(0,0,0)[0]             : AIC=7400.071, Time=1.07 sec\n",
      " ARIMA(2,1,4)(0,0,0)[0]             : AIC=7403.325, Time=0.50 sec\n",
      " ARIMA(4,1,2)(0,0,0)[0]             : AIC=7399.581, Time=0.91 sec\n",
      " ARIMA(4,1,4)(0,0,0)[0]             : AIC=7389.370, Time=1.28 sec\n",
      " ARIMA(5,1,4)(0,0,0)[0]             : AIC=7385.472, Time=1.30 sec\n",
      " ARIMA(5,1,3)(0,0,0)[0]             : AIC=inf, Time=1.24 sec\n",
      " ARIMA(5,1,5)(0,0,0)[0]             : AIC=inf, Time=1.85 sec\n",
      " ARIMA(4,1,5)(0,0,0)[0]             : AIC=inf, Time=1.96 sec\n",
      " ARIMA(5,1,4)(0,0,0)[0] intercept   : AIC=7387.379, Time=1.88 sec\n",
      "\n",
      "Best model:  ARIMA(5,1,4)(0,0,0)[0]          \n",
      "Total fit time: 23.812 seconds\n"
     ]
    }
   ],
   "source": [
    "model = auto_arima(df, max_order = 5, suppress_warnings = True, stepwise = True, trace = True)"
   ]
  },
  {
   "cell_type": "code",
   "execution_count": 13,
   "id": "e9a1fffd",
   "metadata": {
    "scrolled": true
   },
   "outputs": [
    {
     "data": {
      "text/html": [
       "<table class=\"simpletable\">\n",
       "<caption>SARIMAX Results</caption>\n",
       "<tr>\n",
       "  <th>Dep. Variable:</th>           <td>y</td>        <th>  No. Observations:  </th>   <td>1259</td>   \n",
       "</tr>\n",
       "<tr>\n",
       "  <th>Model:</th>           <td>SARIMAX(5, 1, 4)</td> <th>  Log Likelihood     </th> <td>-3682.736</td>\n",
       "</tr>\n",
       "<tr>\n",
       "  <th>Date:</th>            <td>Sun, 23 Oct 2022</td> <th>  AIC                </th> <td>7385.472</td> \n",
       "</tr>\n",
       "<tr>\n",
       "  <th>Time:</th>                <td>11:43:13</td>     <th>  BIC                </th> <td>7436.845</td> \n",
       "</tr>\n",
       "<tr>\n",
       "  <th>Sample:</th>                  <td>0</td>        <th>  HQIC               </th> <td>7404.779</td> \n",
       "</tr>\n",
       "<tr>\n",
       "  <th></th>                      <td> - 1259</td>     <th>                     </th>     <td> </td>    \n",
       "</tr>\n",
       "<tr>\n",
       "  <th>Covariance Type:</th>        <td>opg</td>       <th>                     </th>     <td> </td>    \n",
       "</tr>\n",
       "</table>\n",
       "<table class=\"simpletable\">\n",
       "<tr>\n",
       "     <td></td>       <th>coef</th>     <th>std err</th>      <th>z</th>      <th>P>|z|</th>  <th>[0.025</th>    <th>0.975]</th>  \n",
       "</tr>\n",
       "<tr>\n",
       "  <th>ar.L1</th>  <td>    0.7067</td> <td>    0.071</td> <td>    9.985</td> <td> 0.000</td> <td>    0.568</td> <td>    0.845</td>\n",
       "</tr>\n",
       "<tr>\n",
       "  <th>ar.L2</th>  <td>   -0.1770</td> <td>    0.109</td> <td>   -1.625</td> <td> 0.104</td> <td>   -0.390</td> <td>    0.036</td>\n",
       "</tr>\n",
       "<tr>\n",
       "  <th>ar.L3</th>  <td>   -0.5072</td> <td>    0.107</td> <td>   -4.745</td> <td> 0.000</td> <td>   -0.717</td> <td>   -0.298</td>\n",
       "</tr>\n",
       "<tr>\n",
       "  <th>ar.L4</th>  <td>    0.6906</td> <td>    0.080</td> <td>    8.612</td> <td> 0.000</td> <td>    0.533</td> <td>    0.848</td>\n",
       "</tr>\n",
       "<tr>\n",
       "  <th>ar.L5</th>  <td>    0.1080</td> <td>    0.018</td> <td>    6.017</td> <td> 0.000</td> <td>    0.073</td> <td>    0.143</td>\n",
       "</tr>\n",
       "<tr>\n",
       "  <th>ma.L1</th>  <td>   -0.7584</td> <td>    0.067</td> <td>  -11.255</td> <td> 0.000</td> <td>   -0.890</td> <td>   -0.626</td>\n",
       "</tr>\n",
       "<tr>\n",
       "  <th>ma.L2</th>  <td>    0.2082</td> <td>    0.104</td> <td>    1.995</td> <td> 0.046</td> <td>    0.004</td> <td>    0.413</td>\n",
       "</tr>\n",
       "<tr>\n",
       "  <th>ma.L3</th>  <td>    0.5328</td> <td>    0.100</td> <td>    5.355</td> <td> 0.000</td> <td>    0.338</td> <td>    0.728</td>\n",
       "</tr>\n",
       "<tr>\n",
       "  <th>ma.L4</th>  <td>   -0.7704</td> <td>    0.078</td> <td>   -9.844</td> <td> 0.000</td> <td>   -0.924</td> <td>   -0.617</td>\n",
       "</tr>\n",
       "<tr>\n",
       "  <th>sigma2</th> <td>   20.3258</td> <td>    0.411</td> <td>   49.394</td> <td> 0.000</td> <td>   19.519</td> <td>   21.132</td>\n",
       "</tr>\n",
       "</table>\n",
       "<table class=\"simpletable\">\n",
       "<tr>\n",
       "  <th>Ljung-Box (L1) (Q):</th>     <td>0.01</td>  <th>  Jarque-Bera (JB):  </th> <td>2305.83</td>\n",
       "</tr>\n",
       "<tr>\n",
       "  <th>Prob(Q):</th>                <td>0.93</td>  <th>  Prob(JB):          </th>  <td>0.00</td>  \n",
       "</tr>\n",
       "<tr>\n",
       "  <th>Heteroskedasticity (H):</th> <td>24.23</td> <th>  Skew:              </th>  <td>0.30</td>  \n",
       "</tr>\n",
       "<tr>\n",
       "  <th>Prob(H) (two-sided):</th>    <td>0.00</td>  <th>  Kurtosis:          </th>  <td>9.60</td>  \n",
       "</tr>\n",
       "</table><br/><br/>Warnings:<br/>[1] Covariance matrix calculated using the outer product of gradients (complex-step)."
      ],
      "text/plain": [
       "<class 'statsmodels.iolib.summary.Summary'>\n",
       "\"\"\"\n",
       "                               SARIMAX Results                                \n",
       "==============================================================================\n",
       "Dep. Variable:                      y   No. Observations:                 1259\n",
       "Model:               SARIMAX(5, 1, 4)   Log Likelihood               -3682.736\n",
       "Date:                Sun, 23 Oct 2022   AIC                           7385.472\n",
       "Time:                        11:43:13   BIC                           7436.845\n",
       "Sample:                             0   HQIC                          7404.779\n",
       "                               - 1259                                         \n",
       "Covariance Type:                  opg                                         \n",
       "==============================================================================\n",
       "                 coef    std err          z      P>|z|      [0.025      0.975]\n",
       "------------------------------------------------------------------------------\n",
       "ar.L1          0.7067      0.071      9.985      0.000       0.568       0.845\n",
       "ar.L2         -0.1770      0.109     -1.625      0.104      -0.390       0.036\n",
       "ar.L3         -0.5072      0.107     -4.745      0.000      -0.717      -0.298\n",
       "ar.L4          0.6906      0.080      8.612      0.000       0.533       0.848\n",
       "ar.L5          0.1080      0.018      6.017      0.000       0.073       0.143\n",
       "ma.L1         -0.7584      0.067    -11.255      0.000      -0.890      -0.626\n",
       "ma.L2          0.2082      0.104      1.995      0.046       0.004       0.413\n",
       "ma.L3          0.5328      0.100      5.355      0.000       0.338       0.728\n",
       "ma.L4         -0.7704      0.078     -9.844      0.000      -0.924      -0.617\n",
       "sigma2        20.3258      0.411     49.394      0.000      19.519      21.132\n",
       "===================================================================================\n",
       "Ljung-Box (L1) (Q):                   0.01   Jarque-Bera (JB):              2305.83\n",
       "Prob(Q):                              0.93   Prob(JB):                         0.00\n",
       "Heteroskedasticity (H):              24.23   Skew:                             0.30\n",
       "Prob(H) (two-sided):                  0.00   Kurtosis:                         9.60\n",
       "===================================================================================\n",
       "\n",
       "Warnings:\n",
       "[1] Covariance matrix calculated using the outer product of gradients (complex-step).\n",
       "\"\"\""
      ]
     },
     "execution_count": 13,
     "metadata": {},
     "output_type": "execute_result"
    }
   ],
   "source": [
    "model.summary()"
   ]
  },
  {
   "cell_type": "markdown",
   "id": "076c869c",
   "metadata": {},
   "source": [
    "# Prediction"
   ]
  },
  {
   "cell_type": "code",
   "execution_count": 14,
   "id": "94c60e05",
   "metadata": {},
   "outputs": [
    {
     "name": "stderr",
     "output_type": "stream",
     "text": [
      "C:\\Users\\Lenovo\\anaconda3\\lib\\site-packages\\statsmodels\\tsa\\base\\tsa_model.py:834: ValueWarning: No supported index is available. Prediction results will be given with an integer index beginning at `start`.\n",
      "  return get_prediction_index(\n"
     ]
    },
    {
     "data": {
      "text/html": [
       "<div>\n",
       "<style scoped>\n",
       "    .dataframe tbody tr th:only-of-type {\n",
       "        vertical-align: middle;\n",
       "    }\n",
       "\n",
       "    .dataframe tbody tr th {\n",
       "        vertical-align: top;\n",
       "    }\n",
       "\n",
       "    .dataframe thead th {\n",
       "        text-align: right;\n",
       "    }\n",
       "</style>\n",
       "<table border=\"1\" class=\"dataframe\">\n",
       "  <thead>\n",
       "    <tr style=\"text-align: right;\">\n",
       "      <th></th>\n",
       "      <th>Close</th>\n",
       "    </tr>\n",
       "  </thead>\n",
       "  <tbody>\n",
       "    <tr>\n",
       "      <th>1259</th>\n",
       "      <td>124.221265</td>\n",
       "    </tr>\n",
       "    <tr>\n",
       "      <th>1260</th>\n",
       "      <td>124.707318</td>\n",
       "    </tr>\n",
       "    <tr>\n",
       "      <th>1261</th>\n",
       "      <td>125.961981</td>\n",
       "    </tr>\n",
       "    <tr>\n",
       "      <th>1262</th>\n",
       "      <td>125.602584</td>\n",
       "    </tr>\n",
       "    <tr>\n",
       "      <th>1263</th>\n",
       "      <td>124.870759</td>\n",
       "    </tr>\n",
       "    <tr>\n",
       "      <th>1264</th>\n",
       "      <td>124.069047</td>\n",
       "    </tr>\n",
       "    <tr>\n",
       "      <th>1265</th>\n",
       "      <td>124.733258</td>\n",
       "    </tr>\n",
       "    <tr>\n",
       "      <th>1266</th>\n",
       "      <td>125.603034</td>\n",
       "    </tr>\n",
       "    <tr>\n",
       "      <th>1267</th>\n",
       "      <td>125.962614</td>\n",
       "    </tr>\n",
       "    <tr>\n",
       "      <th>1268</th>\n",
       "      <td>125.093192</td>\n",
       "    </tr>\n",
       "  </tbody>\n",
       "</table>\n",
       "</div>"
      ],
      "text/plain": [
       "           Close\n",
       "1259  124.221265\n",
       "1260  124.707318\n",
       "1261  125.961981\n",
       "1262  125.602584\n",
       "1263  124.870759\n",
       "1264  124.069047\n",
       "1265  124.733258\n",
       "1266  125.603034\n",
       "1267  125.962614\n",
       "1268  125.093192"
      ]
     },
     "execution_count": 14,
     "metadata": {},
     "output_type": "execute_result"
    }
   ],
   "source": [
    "pred = pd.DataFrame(model.predict(n_periods = 10)).rename(columns={0:'Close'})\n",
    "pred"
   ]
  },
  {
   "cell_type": "markdown",
   "id": "365a5519",
   "metadata": {},
   "source": [
    "# Visualisation of Predictions"
   ]
  },
  {
   "cell_type": "code",
   "execution_count": 15,
   "id": "0a660d9d",
   "metadata": {
    "scrolled": true
   },
   "outputs": [],
   "source": [
    "s= pd.date_range('2022-10-24', '2022-11-10', freq='D')\n",
    "dayofweek = pd.DataFrame(s.to_series().dt.dayofweek).rename(columns={0:'day'})\n",
    "dayofweek = dayofweek[dayofweek['day']<5]\n",
    "pred_index = dayofweek[dayofweek.index<='2022-11-04'].index"
   ]
  },
  {
   "cell_type": "code",
   "execution_count": 16,
   "id": "dfd19e48",
   "metadata": {},
   "outputs": [
    {
     "data": {
      "text/html": [
       "<div>\n",
       "<style scoped>\n",
       "    .dataframe tbody tr th:only-of-type {\n",
       "        vertical-align: middle;\n",
       "    }\n",
       "\n",
       "    .dataframe tbody tr th {\n",
       "        vertical-align: top;\n",
       "    }\n",
       "\n",
       "    .dataframe thead th {\n",
       "        text-align: right;\n",
       "    }\n",
       "</style>\n",
       "<table border=\"1\" class=\"dataframe\">\n",
       "  <thead>\n",
       "    <tr style=\"text-align: right;\">\n",
       "      <th></th>\n",
       "      <th>Close</th>\n",
       "    </tr>\n",
       "    <tr>\n",
       "      <th>Date</th>\n",
       "      <th></th>\n",
       "    </tr>\n",
       "  </thead>\n",
       "  <tbody>\n",
       "    <tr>\n",
       "      <th>2022-10-24</th>\n",
       "      <td>124.221265</td>\n",
       "    </tr>\n",
       "    <tr>\n",
       "      <th>2022-10-25</th>\n",
       "      <td>124.707318</td>\n",
       "    </tr>\n",
       "    <tr>\n",
       "      <th>2022-10-26</th>\n",
       "      <td>125.961981</td>\n",
       "    </tr>\n",
       "    <tr>\n",
       "      <th>2022-10-27</th>\n",
       "      <td>125.602584</td>\n",
       "    </tr>\n",
       "    <tr>\n",
       "      <th>2022-10-28</th>\n",
       "      <td>124.870759</td>\n",
       "    </tr>\n",
       "    <tr>\n",
       "      <th>2022-10-31</th>\n",
       "      <td>124.069047</td>\n",
       "    </tr>\n",
       "    <tr>\n",
       "      <th>2022-11-01</th>\n",
       "      <td>124.733258</td>\n",
       "    </tr>\n",
       "    <tr>\n",
       "      <th>2022-11-02</th>\n",
       "      <td>125.603034</td>\n",
       "    </tr>\n",
       "    <tr>\n",
       "      <th>2022-11-03</th>\n",
       "      <td>125.962614</td>\n",
       "    </tr>\n",
       "    <tr>\n",
       "      <th>2022-11-04</th>\n",
       "      <td>125.093192</td>\n",
       "    </tr>\n",
       "  </tbody>\n",
       "</table>\n",
       "</div>"
      ],
      "text/plain": [
       "                 Close\n",
       "Date                  \n",
       "2022-10-24  124.221265\n",
       "2022-10-25  124.707318\n",
       "2022-10-26  125.961981\n",
       "2022-10-27  125.602584\n",
       "2022-10-28  124.870759\n",
       "2022-10-31  124.069047\n",
       "2022-11-01  124.733258\n",
       "2022-11-02  125.603034\n",
       "2022-11-03  125.962614\n",
       "2022-11-04  125.093192"
      ]
     },
     "execution_count": 16,
     "metadata": {},
     "output_type": "execute_result"
    }
   ],
   "source": [
    "pred_plot = pred.copy()\n",
    "pred_plot['Date']=pred_index\n",
    "pred_plot.set_index('Date',inplace=True)\n",
    "pred_plot"
   ]
  },
  {
   "cell_type": "code",
   "execution_count": 17,
   "id": "f8ed27f3",
   "metadata": {},
   "outputs": [
    {
     "data": {
      "text/plain": [
       "[<matplotlib.lines.Line2D at 0x1b0b9fd4f70>]"
      ]
     },
     "execution_count": 17,
     "metadata": {},
     "output_type": "execute_result"
    },
    {
     "data": {
      "image/png": "[encoded data removed]",
      "text/plain": [
       "<Figure size 432x288 with 1 Axes>"
      ]
     },
     "metadata": {
      "needs_background": "light"
     },
     "output_type": "display_data"
    }
   ],
   "source": [
    "plt.plot(df[df.index>='2022-08-01']) # plot for smaller time frame for clearer visualisation\n",
    "plt.plot(pred_plot)"
   ]
  },
  {
   "cell_type": "code",
   "execution_count": 18,
   "id": "b29fb86c",
   "metadata": {},
   "outputs": [
    {
     "data": {
      "text/plain": [
       "[<matplotlib.lines.Line2D at 0x1b0b5eddc10>]"
      ]
     },
     "execution_count": 18,
     "metadata": {},
     "output_type": "execute_result"
    },
    {
     "data": {
      "image/png": "[encoded data removed]",
      "text/plain": [
       "<Figure size 432x288 with 1 Axes>"
      ]
     },
     "metadata": {
      "needs_background": "light"
     },
     "output_type": "display_data"
    }
   ],
   "source": [
    "plt.plot(pred_plot)"
   ]
  },
  {
   "cell_type": "markdown",
   "id": "6c9202bc",
   "metadata": {},
   "source": [
    "# Output"
   ]
  },
  {
   "cell_type": "code",
   "execution_count": 19,
   "id": "14efc436",
   "metadata": {},
   "outputs": [],
   "source": [
    "pred['Index'] = list(range(10))\n",
    "pred.set_index('Index',inplace=True)\n",
    "pred.to_csv('Pan_Yumo_Impl_2.csv')"
   ]
  }
 ],
 "metadata": {
  "kernelspec": {
   "display_name": "Python 3 (ipykernel)",
   "language": "python",
   "name": "python3"
  },
  "language_info": {
   "codemirror_mode": {
    "name": "ipython",
    "version": 3
   },
   "file_extension": ".py",
   "mimetype": "text/x-python",
   "name": "python",
   "nbconvert_exporter": "python",
   "pygments_lexer": "ipython3",
   "version": "3.9.12"
  }
 },
 "nbformat": 4,
 "nbformat_minor": 5
}
