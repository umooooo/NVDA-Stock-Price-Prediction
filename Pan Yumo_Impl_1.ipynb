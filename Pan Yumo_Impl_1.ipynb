{
 "cells": [
  {
   "cell_type": "code",
   "execution_count": 229,
   "id": "df2b9be9",
   "metadata": {},
   "outputs": [],
   "source": [
    "import pandas as pd\n",
    "import numpy as np\n",
    "import matplotlib.pyplot as plt\n",
    "import seaborn as sns\n",
    "%matplotlib inline"
   ]
  },
  {
   "cell_type": "markdown",
   "id": "a2c5b0ae",
   "metadata": {},
   "source": [
    "# Raw Stock Data Input"
   ]
  },
  {
   "cell_type": "code",
   "execution_count": 230,
   "id": "b4c781ce",
   "metadata": {},
   "outputs": [],
   "source": [
    "raw = pd.read_csv('NVDA_5yr.csv')\n",
    "# Data Source: https://finance.yahoo.com/quote/NVDA/history?p=NVDA&guccounter=1"
   ]
  },
  {
   "cell_type": "markdown",
   "id": "1d5c613a",
   "metadata": {},
   "source": [
    "# EDA"
   ]
  },
  {
   "cell_type": "code",
   "execution_count": 231,
   "id": "88cdf371",
   "metadata": {
    "scrolled": true
   },
   "outputs": [
    {
     "data": {
      "text/html": [
       "<div>\n",
       "<style scoped>\n",
       "    .dataframe tbody tr th:only-of-type {\n",
       "        vertical-align: middle;\n",
       "    }\n",
       "\n",
       "    .dataframe tbody tr th {\n",
       "        vertical-align: top;\n",
       "    }\n",
       "\n",
       "    .dataframe thead th {\n",
       "        text-align: right;\n",
       "    }\n",
       "</style>\n",
       "<table border=\"1\" class=\"dataframe\">\n",
       "  <thead>\n",
       "    <tr style=\"text-align: right;\">\n",
       "      <th></th>\n",
       "      <th>Date</th>\n",
       "      <th>Open</th>\n",
       "      <th>High</th>\n",
       "      <th>Low</th>\n",
       "      <th>Close</th>\n",
       "      <th>Adj Close</th>\n",
       "      <th>Volume</th>\n",
       "    </tr>\n",
       "  </thead>\n",
       "  <tbody>\n",
       "    <tr>\n",
       "      <th>0</th>\n",
       "      <td>2017-10-23</td>\n",
       "      <td>49.445000</td>\n",
       "      <td>49.712502</td>\n",
       "      <td>48.950001</td>\n",
       "      <td>49.154999</td>\n",
       "      <td>48.637718</td>\n",
       "      <td>42869600</td>\n",
       "    </tr>\n",
       "    <tr>\n",
       "      <th>1</th>\n",
       "      <td>2017-10-24</td>\n",
       "      <td>49.247501</td>\n",
       "      <td>49.687500</td>\n",
       "      <td>48.985001</td>\n",
       "      <td>49.669998</td>\n",
       "      <td>49.147293</td>\n",
       "      <td>40724400</td>\n",
       "    </tr>\n",
       "    <tr>\n",
       "      <th>2</th>\n",
       "      <td>2017-10-25</td>\n",
       "      <td>49.270000</td>\n",
       "      <td>49.805000</td>\n",
       "      <td>47.792500</td>\n",
       "      <td>48.415001</td>\n",
       "      <td>47.905499</td>\n",
       "      <td>82816000</td>\n",
       "    </tr>\n",
       "    <tr>\n",
       "      <th>3</th>\n",
       "      <td>2017-10-26</td>\n",
       "      <td>48.695000</td>\n",
       "      <td>49.040001</td>\n",
       "      <td>48.452499</td>\n",
       "      <td>48.922501</td>\n",
       "      <td>48.407654</td>\n",
       "      <td>32274400</td>\n",
       "    </tr>\n",
       "    <tr>\n",
       "      <th>4</th>\n",
       "      <td>2017-10-27</td>\n",
       "      <td>49.450001</td>\n",
       "      <td>50.467499</td>\n",
       "      <td>49.187500</td>\n",
       "      <td>50.465000</td>\n",
       "      <td>49.933937</td>\n",
       "      <td>57219200</td>\n",
       "    </tr>\n",
       "  </tbody>\n",
       "</table>\n",
       "</div>"
      ],
      "text/plain": [
       "         Date       Open       High        Low      Close  Adj Close    Volume\n",
       "0  2017-10-23  49.445000  49.712502  48.950001  49.154999  48.637718  42869600\n",
       "1  2017-10-24  49.247501  49.687500  48.985001  49.669998  49.147293  40724400\n",
       "2  2017-10-25  49.270000  49.805000  47.792500  48.415001  47.905499  82816000\n",
       "3  2017-10-26  48.695000  49.040001  48.452499  48.922501  48.407654  32274400\n",
       "4  2017-10-27  49.450001  50.467499  49.187500  50.465000  49.933937  57219200"
      ]
     },
     "execution_count": 231,
     "metadata": {},
     "output_type": "execute_result"
    }
   ],
   "source": [
    "raw.head()"
   ]
  },
  {
   "cell_type": "code",
   "execution_count": 232,
   "id": "284b1ed5",
   "metadata": {},
   "outputs": [
    {
     "name": "stdout",
     "output_type": "stream",
     "text": [
      "<class 'pandas.core.frame.DataFrame'>\n",
      "RangeIndex: 1259 entries, 0 to 1258\n",
      "Data columns (total 7 columns):\n",
      " #   Column     Non-Null Count  Dtype  \n",
      "---  ------     --------------  -----  \n",
      " 0   Date       1259 non-null   object \n",
      " 1   Open       1259 non-null   float64\n",
      " 2   High       1259 non-null   float64\n",
      " 3   Low        1259 non-null   float64\n",
      " 4   Close      1259 non-null   float64\n",
      " 5   Adj Close  1259 non-null   float64\n",
      " 6   Volume     1259 non-null   int64  \n",
      "dtypes: float64(5), int64(1), object(1)\n",
      "memory usage: 69.0+ KB\n"
     ]
    }
   ],
   "source": [
    "raw.info()"
   ]
  },
  {
   "cell_type": "code",
   "execution_count": 233,
   "id": "dddb7b44",
   "metadata": {},
   "outputs": [],
   "source": [
    "df1=raw.reset_index()['Close']"
   ]
  },
  {
   "cell_type": "code",
   "execution_count": 234,
   "id": "1f89a571",
   "metadata": {},
   "outputs": [
    {
     "data": {
      "text/plain": [
       "0        49.154999\n",
       "1        49.669998\n",
       "2        48.415001\n",
       "3        48.922501\n",
       "4        50.465000\n",
       "           ...    \n",
       "1254    118.879997\n",
       "1255    119.669998\n",
       "1256    120.510002\n",
       "1257    121.940002\n",
       "1258    124.660004\n",
       "Name: Close, Length: 1259, dtype: float64"
      ]
     },
     "execution_count": 234,
     "metadata": {},
     "output_type": "execute_result"
    }
   ],
   "source": [
    "df1"
   ]
  },
  {
   "cell_type": "markdown",
   "id": "ecb89c8d",
   "metadata": {},
   "source": [
    "### Time Series of Closing Price"
   ]
  },
  {
   "cell_type": "code",
   "execution_count": 235,
   "id": "e266e58d",
   "metadata": {
    "scrolled": true
   },
   "outputs": [
    {
     "data": {
      "text/plain": [
       "Text(0.5, 1.0, 'NVDA Closing Price')"
      ]
     },
     "execution_count": 235,
     "metadata": {},
     "output_type": "execute_result"
    },
    {
     "data": {
      "image/png": "[encoded data removed]",
      "text/plain": [
       "<Figure size 1080x576 with 1 Axes>"
      ]
     },
     "metadata": {
      "needs_background": "light"
     },
     "output_type": "display_data"
    }
   ],
   "source": [
    "plt.figure(figsize = (15,8))\n",
    "plt.plot(df1)\n",
    "plt.title ('NVDA Closing Price')"
   ]
  },
  {
   "cell_type": "code",
   "execution_count": 138,
   "id": "f2e02654",
   "metadata": {},
   "outputs": [],
   "source": [
    "# Trend Reversal: Macro data will probably be useful here?"
   ]
  },
  {
   "cell_type": "markdown",
   "id": "ba36cea9",
   "metadata": {},
   "source": [
    "# Features Scaling"
   ]
  },
  {
   "cell_type": "code",
   "execution_count": 236,
   "id": "3d177351",
   "metadata": {},
   "outputs": [
    {
     "name": "stdout",
     "output_type": "stream",
     "text": [
      "[[0.05756813]\n",
      " [0.05927348]\n",
      " [0.05511772]\n",
      " ...\n",
      " [0.29385079]\n",
      " [0.29858604]\n",
      " [0.30759297]]\n"
     ]
    }
   ],
   "source": [
    "from sklearn.preprocessing import MinMaxScaler\n",
    "scaler = MinMaxScaler(feature_range = (0, 1))\n",
    "df1 = scaler.fit_transform(np.array(df1).reshape(-1,1))\n",
    "print(df1)"
   ]
  },
  {
   "cell_type": "markdown",
   "id": "c43b2cbd",
   "metadata": {},
   "source": [
    "# Train-Test Split"
   ]
  },
  {
   "cell_type": "code",
   "execution_count": 237,
   "id": "e8bb4c10",
   "metadata": {},
   "outputs": [],
   "source": [
    "N = len(df1)\n",
    "cutoff = int(0.65*N)\n",
    "df_train = df1[:cutoff,:]\n",
    "df_test = df1[cutoff:,:]"
   ]
  },
  {
   "cell_type": "code",
   "execution_count": 238,
   "id": "67a0f147",
   "metadata": {},
   "outputs": [
    {
     "data": {
      "text/plain": [
       "((818, 1), (441, 1))"
      ]
     },
     "execution_count": 238,
     "metadata": {},
     "output_type": "execute_result"
    }
   ],
   "source": [
    "df_train.shape, df_test.shape"
   ]
  },
  {
   "cell_type": "markdown",
   "id": "72108cbf",
   "metadata": {},
   "source": [
    "# Creating Data Structure for LSTM"
   ]
  },
  {
   "cell_type": "code",
   "execution_count": 239,
   "id": "c6afd7b5",
   "metadata": {},
   "outputs": [],
   "source": [
    "# def function to tranform data\n",
    "def create_LSTM(data, timestep):\n",
    "    dataX, dataY = [], []\n",
    "    N = len(data)\n",
    "    for i in range(N - timestep - 1):\n",
    "        a = data[i:(i+timestep),0]\n",
    "        dataX.append(a)\n",
    "        dataY.append(data[i+timestep,0])\n",
    "    return np.array(dataX), np.array(dataY)"
   ]
  },
  {
   "cell_type": "code",
   "execution_count": 240,
   "id": "e251b6db",
   "metadata": {},
   "outputs": [],
   "source": [
    "# use function to tranform train&test\n",
    "timestep = 100 # based on trials-error\n",
    "X_train, y_train = create_LSTM(df_train, timestep)\n",
    "X_test, y_test = create_LSTM(df_test, timestep)"
   ]
  },
  {
   "cell_type": "code",
   "execution_count": 241,
   "id": "1558adc5",
   "metadata": {},
   "outputs": [
    {
     "name": "stdout",
     "output_type": "stream",
     "text": [
      "(717, 100)\n"
     ]
    }
   ],
   "source": [
    "# check structure\n",
    "print(X_train.shape)"
   ]
  },
  {
   "cell_type": "code",
   "execution_count": 242,
   "id": "30299aaf",
   "metadata": {},
   "outputs": [],
   "source": [
    "# reshape input for LSTM\n",
    "X_train = X_train.reshape(X_train.shape[0],X_train.shape[1],1)\n",
    "X_test = X_test.reshape(X_test.shape[0],X_test.shape[1],1)\n",
    "#print(X_train)"
   ]
  },
  {
   "cell_type": "markdown",
   "id": "9c5b8f6d",
   "metadata": {},
   "source": [
    "# Create LSTM model"
   ]
  },
  {
   "cell_type": "code",
   "execution_count": 243,
   "id": "966cee3a",
   "metadata": {},
   "outputs": [],
   "source": [
    "from keras.models import Sequential\n",
    "from keras.layers import Dense\n",
    "from keras.layers import LSTM"
   ]
  },
  {
   "cell_type": "code",
   "execution_count": 244,
   "id": "c434bdb2",
   "metadata": {},
   "outputs": [],
   "source": [
    "# Initialising stacked LSTM model\n",
    "lstm = Sequential()"
   ]
  },
  {
   "cell_type": "code",
   "execution_count": 245,
   "id": "bf0e4c25",
   "metadata": {
    "scrolled": true
   },
   "outputs": [
    {
     "name": "stdout",
     "output_type": "stream",
     "text": [
      "Model: \"sequential_6\"\n",
      "_________________________________________________________________\n",
      " Layer (type)                Output Shape              Param #   \n",
      "=================================================================\n",
      " lstm_20 (LSTM)              (None, 100, 50)           10400     \n",
      "                                                                 \n",
      " lstm_21 (LSTM)              (None, 100, 50)           20200     \n",
      "                                                                 \n",
      " lstm_22 (LSTM)              (None, 50)                20200     \n",
      "                                                                 \n",
      " dense_6 (Dense)             (None, 1)                 51        \n",
      "                                                                 \n",
      "=================================================================\n",
      "Total params: 50,851\n",
      "Trainable params: 50,851\n",
      "Non-trainable params: 0\n",
      "_________________________________________________________________\n"
     ]
    }
   ],
   "source": [
    "# Add LSTM Layers\n",
    "lstm.add(LSTM(50, return_sequences = True, input_shape = (X_train.shape[1], 1)))\n",
    "lstm.add(LSTM(50, return_sequences = True))\n",
    "lstm.add(LSTM(50))\n",
    "\n",
    "# early stop\n",
    "from tensorflow.keras.callbacks import EarlyStopping\n",
    "early_stop = EarlyStopping(monitor='val_loss', mode='min', verbose=1, patience=25)\n",
    "\n",
    "# Add output layer\n",
    "lstm.add(Dense(1))\n",
    "\n",
    "# Compile\n",
    "lstm.compile(loss = 'mean_squared_error', optimizer = 'adam')\n",
    "\n",
    "lstm.summary()"
   ]
  },
  {
   "cell_type": "markdown",
   "id": "bcdbb94f",
   "metadata": {},
   "source": [
    "### Training"
   ]
  },
  {
   "cell_type": "code",
   "execution_count": 246,
   "id": "7ad15a50",
   "metadata": {},
   "outputs": [
    {
     "name": "stdout",
     "output_type": "stream",
     "text": [
      "Epoch 1/30\n",
      "12/12 [==============================] - 8s 259ms/step - loss: 0.0074 - val_loss: 0.0426\n",
      "Epoch 2/30\n",
      "12/12 [==============================] - 2s 152ms/step - loss: 0.0013 - val_loss: 0.0068\n",
      "Epoch 3/30\n",
      "12/12 [==============================] - 2s 150ms/step - loss: 6.2325e-04 - val_loss: 0.0066\n",
      "Epoch 4/30\n",
      "12/12 [==============================] - 2s 144ms/step - loss: 3.7813e-04 - val_loss: 0.0071\n",
      "Epoch 5/30\n",
      "12/12 [==============================] - 2s 145ms/step - loss: 3.2481e-04 - val_loss: 0.0062\n",
      "Epoch 6/30\n",
      "12/12 [==============================] - 2s 143ms/step - loss: 3.1023e-04 - val_loss: 0.0061\n",
      "Epoch 7/30\n",
      "12/12 [==============================] - 2s 148ms/step - loss: 2.9662e-04 - val_loss: 0.0060\n",
      "Epoch 8/30\n",
      "12/12 [==============================] - 2s 142ms/step - loss: 2.9716e-04 - val_loss: 0.0060\n",
      "Epoch 9/30\n",
      "12/12 [==============================] - 2s 141ms/step - loss: 2.9116e-04 - val_loss: 0.0058\n",
      "Epoch 10/30\n",
      "12/12 [==============================] - 2s 138ms/step - loss: 2.7588e-04 - val_loss: 0.0059\n",
      "Epoch 11/30\n",
      "12/12 [==============================] - 2s 138ms/step - loss: 2.7489e-04 - val_loss: 0.0060\n",
      "Epoch 12/30\n",
      "12/12 [==============================] - 2s 141ms/step - loss: 2.7061e-04 - val_loss: 0.0063\n",
      "Epoch 13/30\n",
      "12/12 [==============================] - 2s 138ms/step - loss: 2.5730e-04 - val_loss: 0.0056\n",
      "Epoch 14/30\n",
      "12/12 [==============================] - 2s 139ms/step - loss: 2.5467e-04 - val_loss: 0.0058\n",
      "Epoch 15/30\n",
      "12/12 [==============================] - 2s 138ms/step - loss: 2.5549e-04 - val_loss: 0.0050\n",
      "Epoch 16/30\n",
      "12/12 [==============================] - 2s 138ms/step - loss: 2.4999e-04 - val_loss: 0.0055\n",
      "Epoch 17/30\n",
      "12/12 [==============================] - 2s 139ms/step - loss: 2.3934e-04 - val_loss: 0.0059\n",
      "Epoch 18/30\n",
      "12/12 [==============================] - 2s 138ms/step - loss: 2.4283e-04 - val_loss: 0.0050\n",
      "Epoch 19/30\n",
      "12/12 [==============================] - 2s 138ms/step - loss: 2.3721e-04 - val_loss: 0.0053\n",
      "Epoch 20/30\n",
      "12/12 [==============================] - 2s 139ms/step - loss: 2.3733e-04 - val_loss: 0.0059\n",
      "Epoch 21/30\n",
      "12/12 [==============================] - 2s 141ms/step - loss: 2.2627e-04 - val_loss: 0.0048\n",
      "Epoch 22/30\n",
      "12/12 [==============================] - 2s 138ms/step - loss: 2.1822e-04 - val_loss: 0.0062\n",
      "Epoch 23/30\n",
      "12/12 [==============================] - 2s 139ms/step - loss: 2.4077e-04 - val_loss: 0.0045\n",
      "Epoch 24/30\n",
      "12/12 [==============================] - 2s 138ms/step - loss: 2.2719e-04 - val_loss: 0.0056\n",
      "Epoch 25/30\n",
      "12/12 [==============================] - 2s 140ms/step - loss: 2.0965e-04 - val_loss: 0.0042\n",
      "Epoch 26/30\n",
      "12/12 [==============================] - 2s 139ms/step - loss: 2.1239e-04 - val_loss: 0.0043\n",
      "Epoch 27/30\n",
      "12/12 [==============================] - 2s 141ms/step - loss: 2.1639e-04 - val_loss: 0.0047\n",
      "Epoch 28/30\n",
      "12/12 [==============================] - 2s 141ms/step - loss: 2.0343e-04 - val_loss: 0.0054\n",
      "Epoch 29/30\n",
      "12/12 [==============================] - 2s 140ms/step - loss: 2.0146e-04 - val_loss: 0.0051\n",
      "Epoch 30/30\n",
      "12/12 [==============================] - 2s 142ms/step - loss: 2.1017e-04 - val_loss: 0.0037\n"
     ]
    }
   ],
   "source": [
    "model = lstm.fit(x = X_train, y = y_train, batch_size = 60, epochs = 30, validation_data=(X_test, y_test), \n",
    "                 verbose = 1,callbacks=[early_stop])"
   ]
  },
  {
   "cell_type": "markdown",
   "id": "b5885efe",
   "metadata": {},
   "source": [
    "# Validation using Test Set"
   ]
  },
  {
   "cell_type": "code",
   "execution_count": 150,
   "id": "5f36e578",
   "metadata": {},
   "outputs": [],
   "source": [
    "import tensorflow as tf"
   ]
  },
  {
   "cell_type": "code",
   "execution_count": 247,
   "id": "835fed56",
   "metadata": {},
   "outputs": [
    {
     "name": "stdout",
     "output_type": "stream",
     "text": [
      "23/23 [==============================] - 1s 25ms/step\n",
      "11/11 [==============================] - 0s 23ms/step\n"
     ]
    }
   ],
   "source": [
    "# predict\n",
    "train_predict = lstm.predict(X_train)\n",
    "test_predict = lstm.predict(X_test)"
   ]
  },
  {
   "cell_type": "code",
   "execution_count": 248,
   "id": "822412f1",
   "metadata": {},
   "outputs": [],
   "source": [
    "# tranform back\n",
    "train_predict = scaler.inverse_transform(train_predict)\n",
    "test_predict = scaler.inverse_transform(test_predict)"
   ]
  },
  {
   "cell_type": "code",
   "execution_count": 250,
   "id": "f9e5c7d8",
   "metadata": {},
   "outputs": [
    {
     "data": {
      "text/plain": [
       "76.26672582158571"
      ]
     },
     "execution_count": 250,
     "metadata": {},
     "output_type": "execute_result"
    }
   ],
   "source": [
    "# check RMSE\n",
    "import math\n",
    "from sklearn.metrics import mean_squared_error\n",
    "math.sqrt(mean_squared_error(y_train,train_predict))"
   ]
  },
  {
   "cell_type": "code",
   "execution_count": 251,
   "id": "b226ca83",
   "metadata": {},
   "outputs": [
    {
     "data": {
      "image/png": "[encoded data removed]",
      "text/plain": [
       "<Figure size 432x288 with 1 Axes>"
      ]
     },
     "metadata": {
      "needs_background": "light"
     },
     "output_type": "display_data"
    }
   ],
   "source": [
    "# Visualisation\n",
    "\n",
    "look_back=timestep\n",
    "trainPredictPlot = np.empty_like(df1)\n",
    "trainPredictPlot[:, :] = np.nan\n",
    "trainPredictPlot[look_back:len(train_predict)+look_back, :] = train_predict\n",
    "\n",
    "testPredictPlot = np.empty_like(df1)\n",
    "testPredictPlot[:, :] = np.nan\n",
    "testPredictPlot[len(train_predict)+(look_back*2)+1:len(df1)-1, :] = test_predict\n",
    "\n",
    "plt.plot(scaler.inverse_transform(df1))\n",
    "plt.plot(trainPredictPlot)\n",
    "plt.plot(testPredictPlot)\n",
    "plt.show()"
   ]
  },
  {
   "cell_type": "code",
   "execution_count": 252,
   "id": "81613a17",
   "metadata": {},
   "outputs": [
    {
     "data": {
      "text/plain": [
       "441"
      ]
     },
     "execution_count": 252,
     "metadata": {},
     "output_type": "execute_result"
    }
   ],
   "source": [
    "N = len(df_test)\n",
    "N"
   ]
  },
  {
   "cell_type": "code",
   "execution_count": 253,
   "id": "61b8ef3e",
   "metadata": {},
   "outputs": [
    {
     "data": {
      "text/plain": [
       "(1, 100)"
      ]
     },
     "execution_count": 253,
     "metadata": {},
     "output_type": "execute_result"
    }
   ],
   "source": [
    "x_input=df_test[N-timestep:].reshape(1,-1)\n",
    "x_input.shape"
   ]
  },
  {
   "cell_type": "code",
   "execution_count": 254,
   "id": "c0d8e808",
   "metadata": {},
   "outputs": [],
   "source": [
    "temp_input=list(x_input)[0].tolist()"
   ]
  },
  {
   "cell_type": "markdown",
   "id": "b8258636",
   "metadata": {},
   "source": [
    "# Prediction Next 10 Days"
   ]
  },
  {
   "cell_type": "code",
   "execution_count": 255,
   "id": "8ecb1721",
   "metadata": {},
   "outputs": [
    {
     "name": "stdout",
     "output_type": "stream",
     "text": [
      "[0.2957009]\n",
      "101\n",
      "1 day input [0.54356102 0.51468589 0.51687141 0.5215073  0.5123017  0.49243349\n",
      " 0.45686943 0.41292757 0.41918606 0.44206762 0.41140432 0.42064306\n",
      " 0.44335905 0.43653764 0.43206727 0.46190268 0.45339249 0.42402067\n",
      " 0.40945062 0.39676808 0.37570778 0.39031092 0.39580781 0.41991456\n",
      " 0.4192523  0.39653631 0.39421836 0.39693366 0.40382131 0.41673562\n",
      " 0.42796116 0.45746546 0.48445313 0.49249974 0.46829364 0.45852512\n",
      " 0.44226629 0.48389016 0.49031422 0.4962416  0.5054472  0.50826183\n",
      " 0.52041454 0.53107715 0.52359348 0.4839895  0.46057815 0.49405608\n",
      " 0.48892345 0.51432164 0.52501739 0.51995095 0.50193715 0.51644091\n",
      " 0.4858439  0.45885623 0.46372394 0.46508161 0.48796318 0.43322627\n",
      " 0.41802706 0.4070002  0.39461571 0.35630316 0.34670021 0.3406735\n",
      " 0.34891882 0.35805818 0.37120432 0.37511176 0.32961355 0.32951421\n",
      " 0.32292457 0.33183216 0.33792511 0.33110365 0.33391833 0.31073876\n",
      " 0.30924865 0.2997119  0.30583792 0.31653365 0.29944698 0.29676478\n",
      " 0.3091162  0.33080564 0.33219641 0.32958045 0.29467863 0.28123446\n",
      " 0.27845292 0.27560514 0.29083743 0.2665651  0.28845324 0.29106922\n",
      " 0.29385079 0.29858604 0.30759297 0.29570091]\n",
      "1 day output [[0.295623]]\n",
      "2 day input [0.51468589 0.51687141 0.5215073  0.5123017  0.49243349 0.45686943\n",
      " 0.41292757 0.41918606 0.44206762 0.41140432 0.42064306 0.44335905\n",
      " 0.43653764 0.43206727 0.46190268 0.45339249 0.42402067 0.40945062\n",
      " 0.39676808 0.37570778 0.39031092 0.39580781 0.41991456 0.4192523\n",
      " 0.39653631 0.39421836 0.39693366 0.40382131 0.41673562 0.42796116\n",
      " 0.45746546 0.48445313 0.49249974 0.46829364 0.45852512 0.44226629\n",
      " 0.48389016 0.49031422 0.4962416  0.5054472  0.50826183 0.52041454\n",
      " 0.53107715 0.52359348 0.4839895  0.46057815 0.49405608 0.48892345\n",
      " 0.51432164 0.52501739 0.51995095 0.50193715 0.51644091 0.4858439\n",
      " 0.45885623 0.46372394 0.46508161 0.48796318 0.43322627 0.41802706\n",
      " 0.4070002  0.39461571 0.35630316 0.34670021 0.3406735  0.34891882\n",
      " 0.35805818 0.37120432 0.37511176 0.32961355 0.32951421 0.32292457\n",
      " 0.33183216 0.33792511 0.33110365 0.33391833 0.31073876 0.30924865\n",
      " 0.2997119  0.30583792 0.31653365 0.29944698 0.29676478 0.3091162\n",
      " 0.33080564 0.33219641 0.32958045 0.29467863 0.28123446 0.27845292\n",
      " 0.27560514 0.29083743 0.2665651  0.28845324 0.29106922 0.29385079\n",
      " 0.29858604 0.30759297 0.29570091 0.295623  ]\n",
      "2 day output [[0.29605004]]\n",
      "3 day input [0.51687141 0.5215073  0.5123017  0.49243349 0.45686943 0.41292757\n",
      " 0.41918606 0.44206762 0.41140432 0.42064306 0.44335905 0.43653764\n",
      " 0.43206727 0.46190268 0.45339249 0.42402067 0.40945062 0.39676808\n",
      " 0.37570778 0.39031092 0.39580781 0.41991456 0.4192523  0.39653631\n",
      " 0.39421836 0.39693366 0.40382131 0.41673562 0.42796116 0.45746546\n",
      " 0.48445313 0.49249974 0.46829364 0.45852512 0.44226629 0.48389016\n",
      " 0.49031422 0.4962416  0.5054472  0.50826183 0.52041454 0.53107715\n",
      " 0.52359348 0.4839895  0.46057815 0.49405608 0.48892345 0.51432164\n",
      " 0.52501739 0.51995095 0.50193715 0.51644091 0.4858439  0.45885623\n",
      " 0.46372394 0.46508161 0.48796318 0.43322627 0.41802706 0.4070002\n",
      " 0.39461571 0.35630316 0.34670021 0.3406735  0.34891882 0.35805818\n",
      " 0.37120432 0.37511176 0.32961355 0.32951421 0.32292457 0.33183216\n",
      " 0.33792511 0.33110365 0.33391833 0.31073876 0.30924865 0.2997119\n",
      " 0.30583792 0.31653365 0.29944698 0.29676478 0.3091162  0.33080564\n",
      " 0.33219641 0.32958045 0.29467863 0.28123446 0.27845292 0.27560514\n",
      " 0.29083743 0.2665651  0.28845324 0.29106922 0.29385079 0.29858604\n",
      " 0.30759297 0.29570091 0.295623   0.29605004]\n",
      "3 day output [[0.2968175]]\n",
      "4 day input [0.5215073  0.5123017  0.49243349 0.45686943 0.41292757 0.41918606\n",
      " 0.44206762 0.41140432 0.42064306 0.44335905 0.43653764 0.43206727\n",
      " 0.46190268 0.45339249 0.42402067 0.40945062 0.39676808 0.37570778\n",
      " 0.39031092 0.39580781 0.41991456 0.4192523  0.39653631 0.39421836\n",
      " 0.39693366 0.40382131 0.41673562 0.42796116 0.45746546 0.48445313\n",
      " 0.49249974 0.46829364 0.45852512 0.44226629 0.48389016 0.49031422\n",
      " 0.4962416  0.5054472  0.50826183 0.52041454 0.53107715 0.52359348\n",
      " 0.4839895  0.46057815 0.49405608 0.48892345 0.51432164 0.52501739\n",
      " 0.51995095 0.50193715 0.51644091 0.4858439  0.45885623 0.46372394\n",
      " 0.46508161 0.48796318 0.43322627 0.41802706 0.4070002  0.39461571\n",
      " 0.35630316 0.34670021 0.3406735  0.34891882 0.35805818 0.37120432\n",
      " 0.37511176 0.32961355 0.32951421 0.32292457 0.33183216 0.33792511\n",
      " 0.33110365 0.33391833 0.31073876 0.30924865 0.2997119  0.30583792\n",
      " 0.31653365 0.29944698 0.29676478 0.3091162  0.33080564 0.33219641\n",
      " 0.32958045 0.29467863 0.28123446 0.27845292 0.27560514 0.29083743\n",
      " 0.2665651  0.28845324 0.29106922 0.29385079 0.29858604 0.30759297\n",
      " 0.29570091 0.295623   0.29605004 0.29681751]\n",
      "4 day output [[0.29780158]]\n",
      "5 day input [0.5123017  0.49243349 0.45686943 0.41292757 0.41918606 0.44206762\n",
      " 0.41140432 0.42064306 0.44335905 0.43653764 0.43206727 0.46190268\n",
      " 0.45339249 0.42402067 0.40945062 0.39676808 0.37570778 0.39031092\n",
      " 0.39580781 0.41991456 0.4192523  0.39653631 0.39421836 0.39693366\n",
      " 0.40382131 0.41673562 0.42796116 0.45746546 0.48445313 0.49249974\n",
      " 0.46829364 0.45852512 0.44226629 0.48389016 0.49031422 0.4962416\n",
      " 0.5054472  0.50826183 0.52041454 0.53107715 0.52359348 0.4839895\n",
      " 0.46057815 0.49405608 0.48892345 0.51432164 0.52501739 0.51995095\n",
      " 0.50193715 0.51644091 0.4858439  0.45885623 0.46372394 0.46508161\n",
      " 0.48796318 0.43322627 0.41802706 0.4070002  0.39461571 0.35630316\n",
      " 0.34670021 0.3406735  0.34891882 0.35805818 0.37120432 0.37511176\n",
      " 0.32961355 0.32951421 0.32292457 0.33183216 0.33792511 0.33110365\n",
      " 0.33391833 0.31073876 0.30924865 0.2997119  0.30583792 0.31653365\n",
      " 0.29944698 0.29676478 0.3091162  0.33080564 0.33219641 0.32958045\n",
      " 0.29467863 0.28123446 0.27845292 0.27560514 0.29083743 0.2665651\n",
      " 0.28845324 0.29106922 0.29385079 0.29858604 0.30759297 0.29570091\n",
      " 0.295623   0.29605004 0.29681751 0.29780158]\n",
      "5 day output [[0.29891688]]\n",
      "6 day input [0.49243349 0.45686943 0.41292757 0.41918606 0.44206762 0.41140432\n",
      " 0.42064306 0.44335905 0.43653764 0.43206727 0.46190268 0.45339249\n",
      " 0.42402067 0.40945062 0.39676808 0.37570778 0.39031092 0.39580781\n",
      " 0.41991456 0.4192523  0.39653631 0.39421836 0.39693366 0.40382131\n",
      " 0.41673562 0.42796116 0.45746546 0.48445313 0.49249974 0.46829364\n",
      " 0.45852512 0.44226629 0.48389016 0.49031422 0.4962416  0.5054472\n",
      " 0.50826183 0.52041454 0.53107715 0.52359348 0.4839895  0.46057815\n",
      " 0.49405608 0.48892345 0.51432164 0.52501739 0.51995095 0.50193715\n",
      " 0.51644091 0.4858439  0.45885623 0.46372394 0.46508161 0.48796318\n",
      " 0.43322627 0.41802706 0.4070002  0.39461571 0.35630316 0.34670021\n",
      " 0.3406735  0.34891882 0.35805818 0.37120432 0.37511176 0.32961355\n",
      " 0.32951421 0.32292457 0.33183216 0.33792511 0.33110365 0.33391833\n",
      " 0.31073876 0.30924865 0.2997119  0.30583792 0.31653365 0.29944698\n",
      " 0.29676478 0.3091162  0.33080564 0.33219641 0.32958045 0.29467863\n",
      " 0.28123446 0.27845292 0.27560514 0.29083743 0.2665651  0.28845324\n",
      " 0.29106922 0.29385079 0.29858604 0.30759297 0.29570091 0.295623\n",
      " 0.29605004 0.29681751 0.29780158 0.29891688]\n",
      "6 day output [[0.30010873]]\n",
      "7 day input [0.45686943 0.41292757 0.41918606 0.44206762 0.41140432 0.42064306\n",
      " 0.44335905 0.43653764 0.43206727 0.46190268 0.45339249 0.42402067\n",
      " 0.40945062 0.39676808 0.37570778 0.39031092 0.39580781 0.41991456\n",
      " 0.4192523  0.39653631 0.39421836 0.39693366 0.40382131 0.41673562\n",
      " 0.42796116 0.45746546 0.48445313 0.49249974 0.46829364 0.45852512\n",
      " 0.44226629 0.48389016 0.49031422 0.4962416  0.5054472  0.50826183\n",
      " 0.52041454 0.53107715 0.52359348 0.4839895  0.46057815 0.49405608\n",
      " 0.48892345 0.51432164 0.52501739 0.51995095 0.50193715 0.51644091\n",
      " 0.4858439  0.45885623 0.46372394 0.46508161 0.48796318 0.43322627\n",
      " 0.41802706 0.4070002  0.39461571 0.35630316 0.34670021 0.3406735\n",
      " 0.34891882 0.35805818 0.37120432 0.37511176 0.32961355 0.32951421\n",
      " 0.32292457 0.33183216 0.33792511 0.33110365 0.33391833 0.31073876\n",
      " 0.30924865 0.2997119  0.30583792 0.31653365 0.29944698 0.29676478\n",
      " 0.3091162  0.33080564 0.33219641 0.32958045 0.29467863 0.28123446\n",
      " 0.27845292 0.27560514 0.29083743 0.2665651  0.28845324 0.29106922\n",
      " 0.29385079 0.29858604 0.30759297 0.29570091 0.295623   0.29605004\n",
      " 0.29681751 0.29780158 0.29891688 0.30010873]\n",
      "7 day output [[0.3013459]]\n",
      "8 day input [0.41292757 0.41918606 0.44206762 0.41140432 0.42064306 0.44335905\n",
      " 0.43653764 0.43206727 0.46190268 0.45339249 0.42402067 0.40945062\n",
      " 0.39676808 0.37570778 0.39031092 0.39580781 0.41991456 0.4192523\n",
      " 0.39653631 0.39421836 0.39693366 0.40382131 0.41673562 0.42796116\n",
      " 0.45746546 0.48445313 0.49249974 0.46829364 0.45852512 0.44226629\n",
      " 0.48389016 0.49031422 0.4962416  0.5054472  0.50826183 0.52041454\n",
      " 0.53107715 0.52359348 0.4839895  0.46057815 0.49405608 0.48892345\n",
      " 0.51432164 0.52501739 0.51995095 0.50193715 0.51644091 0.4858439\n",
      " 0.45885623 0.46372394 0.46508161 0.48796318 0.43322627 0.41802706\n",
      " 0.4070002  0.39461571 0.35630316 0.34670021 0.3406735  0.34891882\n",
      " 0.35805818 0.37120432 0.37511176 0.32961355 0.32951421 0.32292457\n",
      " 0.33183216 0.33792511 0.33110365 0.33391833 0.31073876 0.30924865\n",
      " 0.2997119  0.30583792 0.31653365 0.29944698 0.29676478 0.3091162\n",
      " 0.33080564 0.33219641 0.32958045 0.29467863 0.28123446 0.27845292\n",
      " 0.27560514 0.29083743 0.2665651  0.28845324 0.29106922 0.29385079\n",
      " 0.29858604 0.30759297 0.29570091 0.295623   0.29605004 0.29681751\n",
      " 0.29780158 0.29891688 0.30010873 0.30134591]\n",
      "8 day output [[0.30261227]]\n",
      "9 day input [0.41918606 0.44206762 0.41140432 0.42064306 0.44335905 0.43653764\n",
      " 0.43206727 0.46190268 0.45339249 0.42402067 0.40945062 0.39676808\n",
      " 0.37570778 0.39031092 0.39580781 0.41991456 0.4192523  0.39653631\n",
      " 0.39421836 0.39693366 0.40382131 0.41673562 0.42796116 0.45746546\n",
      " 0.48445313 0.49249974 0.46829364 0.45852512 0.44226629 0.48389016\n",
      " 0.49031422 0.4962416  0.5054472  0.50826183 0.52041454 0.53107715\n",
      " 0.52359348 0.4839895  0.46057815 0.49405608 0.48892345 0.51432164\n",
      " 0.52501739 0.51995095 0.50193715 0.51644091 0.4858439  0.45885623\n",
      " 0.46372394 0.46508161 0.48796318 0.43322627 0.41802706 0.4070002\n",
      " 0.39461571 0.35630316 0.34670021 0.3406735  0.34891882 0.35805818\n",
      " 0.37120432 0.37511176 0.32961355 0.32951421 0.32292457 0.33183216\n",
      " 0.33792511 0.33110365 0.33391833 0.31073876 0.30924865 0.2997119\n",
      " 0.30583792 0.31653365 0.29944698 0.29676478 0.3091162  0.33080564\n",
      " 0.33219641 0.32958045 0.29467863 0.28123446 0.27845292 0.27560514\n",
      " 0.29083743 0.2665651  0.28845324 0.29106922 0.29385079 0.29858604\n",
      " 0.30759297 0.29570091 0.295623   0.29605004 0.29681751 0.29780158\n",
      " 0.29891688 0.30010873 0.30134591 0.30261227]\n",
      "9 day output [[0.3039012]]\n",
      "[[0.29570090770721436], [0.2956230044364929], [0.2960500419139862], [0.29681751132011414], [0.29780158400535583], [0.29891687631607056], [0.30010873079299927], [0.30134591460227966], [0.3026122748851776], [0.30390119552612305]]\n"
     ]
    }
   ],
   "source": [
    "lst_output=[]\n",
    "n_steps=timestep\n",
    "i=0\n",
    "while(i<10):\n",
    "    \n",
    "    if(len(temp_input)>timestep):\n",
    "        #print(temp_input)\n",
    "        x_input=np.array(temp_input[1:])\n",
    "        print(\"{} day input {}\".format(i,x_input))\n",
    "        x_input=x_input.reshape(1,-1)\n",
    "        x_input = x_input.reshape((1, n_steps, 1))\n",
    "        #print(x_input)\n",
    "        yhat = lstm.predict(x_input, verbose=0)\n",
    "        print(\"{} day output {}\".format(i,yhat))\n",
    "        temp_input.extend(yhat[0].tolist())\n",
    "        temp_input=temp_input[1:]\n",
    "        #print(temp_input)\n",
    "        lst_output.extend(yhat.tolist())\n",
    "        i=i+1\n",
    "    else:\n",
    "        x_input = x_input.reshape((1, n_steps,1))\n",
    "        yhat = lstm.predict(x_input, verbose=0)\n",
    "        print(yhat[0])\n",
    "        temp_input.extend(yhat[0].tolist())\n",
    "        print(len(temp_input))\n",
    "        lst_output.extend(yhat.tolist())\n",
    "        i=i+1\n",
    "    \n",
    "\n",
    "print(lst_output)"
   ]
  },
  {
   "cell_type": "code",
   "execution_count": 256,
   "id": "af52f830",
   "metadata": {},
   "outputs": [],
   "source": [
    "day_input = np.arange(1,timestep+1)\n",
    "day_output = np.arange(timestep+1,timestep+11)"
   ]
  },
  {
   "cell_type": "code",
   "execution_count": 257,
   "id": "d7a64060",
   "metadata": {},
   "outputs": [
    {
     "data": {
      "text/plain": [
       "1259"
      ]
     },
     "execution_count": 257,
     "metadata": {},
     "output_type": "execute_result"
    }
   ],
   "source": [
    "len(df1)"
   ]
  },
  {
   "cell_type": "code",
   "execution_count": 258,
   "id": "150925fc",
   "metadata": {},
   "outputs": [
    {
     "data": {
      "text/plain": [
       "[<matplotlib.lines.Line2D at 0x1c76f945ee0>]"
      ]
     },
     "execution_count": 258,
     "metadata": {},
     "output_type": "execute_result"
    },
    {
     "data": {
      "image/png": "[encoded data removed]",
      "text/plain": [
       "<Figure size 432x288 with 1 Axes>"
      ]
     },
     "metadata": {
      "needs_background": "light"
     },
     "output_type": "display_data"
    }
   ],
   "source": [
    "plt.plot(day_input, scaler.inverse_transform(df1[(len(df1)-timestep):]))\n",
    "plt.plot(day_output, scaler.inverse_transform(lst_output))"
   ]
  },
  {
   "cell_type": "code",
   "execution_count": 266,
   "id": "b29fb86c",
   "metadata": {},
   "outputs": [
    {
     "data": {
      "text/html": [
       "<div>\n",
       "<style scoped>\n",
       "    .dataframe tbody tr th:only-of-type {\n",
       "        vertical-align: middle;\n",
       "    }\n",
       "\n",
       "    .dataframe tbody tr th {\n",
       "        vertical-align: top;\n",
       "    }\n",
       "\n",
       "    .dataframe thead th {\n",
       "        text-align: right;\n",
       "    }\n",
       "</style>\n",
       "<table border=\"1\" class=\"dataframe\">\n",
       "  <thead>\n",
       "    <tr style=\"text-align: right;\">\n",
       "      <th></th>\n",
       "      <th>0</th>\n",
       "    </tr>\n",
       "  </thead>\n",
       "  <tbody>\n",
       "    <tr>\n",
       "      <th>0</th>\n",
       "      <td>121.068720</td>\n",
       "    </tr>\n",
       "    <tr>\n",
       "      <th>1</th>\n",
       "      <td>121.045194</td>\n",
       "    </tr>\n",
       "    <tr>\n",
       "      <th>2</th>\n",
       "      <td>121.174155</td>\n",
       "    </tr>\n",
       "    <tr>\n",
       "      <th>3</th>\n",
       "      <td>121.405923</td>\n",
       "    </tr>\n",
       "    <tr>\n",
       "      <th>4</th>\n",
       "      <td>121.703103</td>\n",
       "    </tr>\n",
       "    <tr>\n",
       "      <th>5</th>\n",
       "      <td>122.039910</td>\n",
       "    </tr>\n",
       "    <tr>\n",
       "      <th>6</th>\n",
       "      <td>122.399839</td>\n",
       "    </tr>\n",
       "    <tr>\n",
       "      <th>7</th>\n",
       "      <td>122.773456</td>\n",
       "    </tr>\n",
       "    <tr>\n",
       "      <th>8</th>\n",
       "      <td>123.155884</td>\n",
       "    </tr>\n",
       "    <tr>\n",
       "      <th>9</th>\n",
       "      <td>123.545125</td>\n",
       "    </tr>\n",
       "  </tbody>\n",
       "</table>\n",
       "</div>"
      ],
      "text/plain": [
       "            0\n",
       "0  121.068720\n",
       "1  121.045194\n",
       "2  121.174155\n",
       "3  121.405923\n",
       "4  121.703103\n",
       "5  122.039910\n",
       "6  122.399839\n",
       "7  122.773456\n",
       "8  123.155884\n",
       "9  123.545125"
      ]
     },
     "execution_count": 266,
     "metadata": {},
     "output_type": "execute_result"
    }
   ],
   "source": [
    "#d = {'Index':list(range(10)),'Close':scaler.inverse_transform(lst_output[:,0])}\n",
    "final_pred = pd.DataFrame(scaler.inverse_transform(lst_output))\n",
    "final_pred"
   ]
  },
  {
   "cell_type": "code",
   "execution_count": 278,
   "id": "73894680",
   "metadata": {},
   "outputs": [
    {
     "data": {
      "text/html": [
       "<div>\n",
       "<style scoped>\n",
       "    .dataframe tbody tr th:only-of-type {\n",
       "        vertical-align: middle;\n",
       "    }\n",
       "\n",
       "    .dataframe tbody tr th {\n",
       "        vertical-align: top;\n",
       "    }\n",
       "\n",
       "    .dataframe thead th {\n",
       "        text-align: right;\n",
       "    }\n",
       "</style>\n",
       "<table border=\"1\" class=\"dataframe\">\n",
       "  <thead>\n",
       "    <tr style=\"text-align: right;\">\n",
       "      <th></th>\n",
       "      <th>Close</th>\n",
       "    </tr>\n",
       "    <tr>\n",
       "      <th>Index</th>\n",
       "      <th></th>\n",
       "    </tr>\n",
       "  </thead>\n",
       "  <tbody>\n",
       "    <tr>\n",
       "      <th>0</th>\n",
       "      <td>121.068720</td>\n",
       "    </tr>\n",
       "    <tr>\n",
       "      <th>1</th>\n",
       "      <td>121.045194</td>\n",
       "    </tr>\n",
       "    <tr>\n",
       "      <th>2</th>\n",
       "      <td>121.174155</td>\n",
       "    </tr>\n",
       "    <tr>\n",
       "      <th>3</th>\n",
       "      <td>121.405923</td>\n",
       "    </tr>\n",
       "    <tr>\n",
       "      <th>4</th>\n",
       "      <td>121.703103</td>\n",
       "    </tr>\n",
       "    <tr>\n",
       "      <th>5</th>\n",
       "      <td>122.039910</td>\n",
       "    </tr>\n",
       "    <tr>\n",
       "      <th>6</th>\n",
       "      <td>122.399839</td>\n",
       "    </tr>\n",
       "    <tr>\n",
       "      <th>7</th>\n",
       "      <td>122.773456</td>\n",
       "    </tr>\n",
       "    <tr>\n",
       "      <th>8</th>\n",
       "      <td>123.155884</td>\n",
       "    </tr>\n",
       "    <tr>\n",
       "      <th>9</th>\n",
       "      <td>123.545125</td>\n",
       "    </tr>\n",
       "  </tbody>\n",
       "</table>\n",
       "</div>"
      ],
      "text/plain": [
       "            Close\n",
       "Index            \n",
       "0      121.068720\n",
       "1      121.045194\n",
       "2      121.174155\n",
       "3      121.405923\n",
       "4      121.703103\n",
       "5      122.039910\n",
       "6      122.399839\n",
       "7      122.773456\n",
       "8      123.155884\n",
       "9      123.545125"
      ]
     },
     "execution_count": 278,
     "metadata": {},
     "output_type": "execute_result"
    }
   ],
   "source": [
    "final_pred['Index']=list(range(10))\n",
    "final_pred.set_index('Index', inplace=True)\n",
    "final_pred.columns = ['Close']\n",
    "final_pred"
   ]
  },
  {
   "cell_type": "markdown",
   "id": "23d0d47d",
   "metadata": {},
   "source": [
    "# Output"
   ]
  },
  {
   "cell_type": "code",
   "execution_count": 279,
   "id": "5dc3b7b0",
   "metadata": {},
   "outputs": [],
   "source": [
    "final_pred.to_csv('Pan_Yumo_Impl_1.csv')"
   ]
  },
  {
   "cell_type": "code",
   "execution_count": null,
   "id": "d917c929",
   "metadata": {},
   "outputs": [],
   "source": []
  }
 ],
 "metadata": {
  "kernelspec": {
   "display_name": "Python 3 (ipykernel)",
   "language": "python",
   "name": "python3"
  },
  "language_info": {
   "codemirror_mode": {
    "name": "ipython",
    "version": 3
   },
   "file_extension": ".py",
   "mimetype": "text/x-python",
   "name": "python",
   "nbconvert_exporter": "python",
   "pygments_lexer": "ipython3",
   "version": "3.9.12"
  }
 },
 "nbformat": 4,
 "nbformat_minor": 5
}
